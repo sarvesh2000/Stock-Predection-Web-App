{
  "nbformat": 4,
  "nbformat_minor": 0,
  "metadata": {
    "colab": {
      "provenance": [],
      "authorship_tag": "ABX9TyOLVxL7Anquicbpyxv32F89",
      "include_colab_link": true
    },
    "kernelspec": {
      "name": "python3",
      "display_name": "Python 3"
    },
    "accelerator": "GPU"
  },
  "cells": [
    {
      "cell_type": "markdown",
      "metadata": {
        "id": "view-in-github",
        "colab_type": "text"
      },
      "source": [
        "<a href=\"https://colab.research.google.com/github/sarvesh2000/Stock-Predection-Web-App/blob/main/FINAL_Stock_Price_Prediction.ipynb\" target=\"_parent\"><img src=\"https://colab.research.google.com/assets/colab-badge.svg\" alt=\"Open In Colab\"/></a>"
      ]
    },
    {
      "cell_type": "code",
      "metadata": {
        "id": "s9ClIjupapJx"
      },
      "source": [
        "### Data Collection\n",
        "import pandas_datareader as pdr\n",
        "import matplotlib.pyplot as plt\n",
        "import pandas as pd\n",
        "from sklearn.preprocessing import MinMaxScaler\n",
        "import numpy as np\n",
        "key=\"483bd89d87mshce534f1bd4ba6b0p182fcdjsnf08d8fc19c04\""
      ],
      "execution_count": null,
      "outputs": []
    },
    {
      "cell_type": "code",
      "metadata": {
        "id": "0CVJzn8Ibjvm"
      },
      "source": [
        "def get_data(symbol):\n",
        "\n",
        "    #load the data\n",
        "    if symbol.upper() == 'AMZN':\n",
        "        df = pd.read_csv(\"AMZN.csv\")\n",
        "    elif symbol.upper() == 'TSLA':\n",
        "        df = pd.read_csv(\"TSLA.csv\")\n",
        "    elif symbol.upper() == 'GOOG':\n",
        "        df = pd.read_csv(\"GOOG.csv\")\n",
        "    elif symbol.upper() == 'AAPL':\n",
        "        df = pd.read_csv(\"AAPL.csv\")"
      ],
      "execution_count": null,
      "outputs": []
    },
    {
      "cell_type": "code",
      "metadata": {
        "id": "rqrOZZOHbM8D"
      },
      "source": [
        "def predict(symbol):\n",
        "    df = pdr.get_data_yahoo(symbol)\n",
        "    df1 = df. reset_index()['Close']\n",
        "    scaler = MinMaxScaler(feature_range=(0,1))\n",
        "    df1 = scaler.fit_transform(np.array(df1).reshape(-1,1))\n",
        "    return plt.plot(df1)\n",
        ""
      ],
      "execution_count": null,
      "outputs": []
    },
    {
      "cell_type": "code",
      "metadata": {
        "id": "IHB7k0ZEcZkz"
      },
      "source": [
        "df = pdr.get_data_yahoo('IDEA.NS')\n",
        "df1 = df. reset_index()['Close']\n",
        ""
      ],
      "execution_count": null,
      "outputs": []
    },
    {
      "cell_type": "code",
      "metadata": {
        "id": "HIy1Wldyce3i"
      },
      "source": [
        "import numpy as np"
      ],
      "execution_count": null,
      "outputs": []
    },
    {
      "cell_type": "code",
      "metadata": {
        "id": "Ch0_VLV5eOQQ"
      },
      "source": [
        "from sklearn.preprocessing import MinMaxScaler\n",
        "scaler=MinMaxScaler(feature_range=(0,1))\n",
        "df1=scaler.fit_transform(np.array(df1).reshape(-1,1))"
      ],
      "execution_count": null,
      "outputs": []
    },
    {
      "cell_type": "code",
      "metadata": {
        "id": "eptzGx1se8sc"
      },
      "source": [
        "training_size=int(len(df1)*0.65)\n",
        "test_size=len(df1)-training_size\n",
        "train_data,test_data=df1[0:training_size,:],df1[training_size:len(df1),:1]"
      ],
      "execution_count": null,
      "outputs": []
    },
    {
      "cell_type": "code",
      "metadata": {
        "id": "_T0TrWlVgTc-"
      },
      "source": [
        "import numpy\n",
        "# convert an array of values into a dataset matrix\n",
        "def create_dataset(dataset, time_step=1):\n",
        "\tdataX, dataY = [], []\n",
        "\tfor i in range(len(dataset)-time_step-1):\n",
        "\t\ta = dataset[i:(i+time_step), 0]   ###i=0, 0,1,2,3-----99   100\n",
        "\t\tdataX.append(a)\n",
        "\t\tdataY.append(dataset[i + time_step, 0])\n",
        "\treturn numpy.array(dataX), numpy.array(dataY)"
      ],
      "execution_count": null,
      "outputs": []
    },
    {
      "cell_type": "code",
      "metadata": {
        "id": "IbEpLvDUhxb3"
      },
      "source": [
        "time_step = 100\n",
        "X_train, y_train = create_dataset(train_data, time_step)\n",
        "X_test, ytest = create_dataset(test_data, time_step)"
      ],
      "execution_count": null,
      "outputs": []
    },
    {
      "cell_type": "code",
      "metadata": {
        "id": "tuyBTz4sjGyy"
      },
      "source": [
        "# reshape input to be [samples, time steps, features] which is required for LSTM\n",
        "X_train =X_train.reshape(X_train.shape[0],X_train.shape[1] , 1)\n",
        "X_test = X_test.reshape(X_test.shape[0],X_test.shape[1] , 1)"
      ],
      "execution_count": null,
      "outputs": []
    },
    {
      "cell_type": "code",
      "metadata": {
        "id": "AGPsq-YfjjSL"
      },
      "source": [
        "### Create the Stacked LSTM model\n",
        "import tensorflow as tf\n",
        "import numpy as np\n",
        "from tensorflow import keras\n",
        "from tensorflow.keras.models import Sequential\n",
        "from tensorflow.keras.layers import Dense\n",
        "from tensorflow.keras.layers import LSTM"
      ],
      "execution_count": null,
      "outputs": []
    },
    {
      "cell_type": "code",
      "metadata": {
        "id": "0XurtcezkKRg"
      },
      "source": [
        "model = tf.keras.Sequential([keras.layers.Dense(units=1, input_shape=[1])])\n",
        "model=Sequential()\n",
        "model.add(LSTM(50,return_sequences=True,input_shape=(100,1)))\n",
        "model.add(LSTM(50,return_sequences=True))\n",
        "model.add(LSTM(50))\n",
        "\n",
        "\n",
        "model.add(Dense(1))\n",
        "model.compile(loss='mean_squared_error',optimizer='adam')"
      ],
      "execution_count": null,
      "outputs": []
    },
    {
      "cell_type": "code",
      "metadata": {
        "id": "_qHoH4H1k0ch",
        "colab": {
          "base_uri": "https://localhost:8080/"
        },
        "outputId": "9d86a2ab-0ed6-409c-b4c9-377325ed64ab"
      },
      "source": [
        "\n",
        "model.fit(X_train,y_train,validation_data=(X_test,ytest),epochs=300,batch_size=64,verbose=1)"
      ],
      "execution_count": null,
      "outputs": [
        {
          "output_type": "stream",
          "text": [
            "Epoch 1/300\n",
            "11/11 [==============================] - 1s 101ms/step - loss: 0.1033 - val_loss: 0.0213\n",
            "Epoch 2/300\n",
            "11/11 [==============================] - 0s 21ms/step - loss: 0.0136 - val_loss: 0.0212\n",
            "Epoch 3/300\n",
            "11/11 [==============================] - 0s 18ms/step - loss: 0.0070 - val_loss: 0.0169\n",
            "Epoch 4/300\n",
            "11/11 [==============================] - 0s 17ms/step - loss: 0.0057 - val_loss: 0.0167\n",
            "Epoch 5/300\n",
            "11/11 [==============================] - 0s 18ms/step - loss: 0.0047 - val_loss: 0.0088\n",
            "Epoch 6/300\n",
            "11/11 [==============================] - 0s 18ms/step - loss: 0.0038 - val_loss: 0.0067\n",
            "Epoch 7/300\n",
            "11/11 [==============================] - 0s 18ms/step - loss: 0.0032 - val_loss: 0.0032\n",
            "Epoch 8/300\n",
            "11/11 [==============================] - 0s 19ms/step - loss: 0.0029 - val_loss: 0.0015\n",
            "Epoch 9/300\n",
            "11/11 [==============================] - 0s 19ms/step - loss: 0.0027 - val_loss: 6.8229e-04\n",
            "Epoch 10/300\n",
            "11/11 [==============================] - 0s 18ms/step - loss: 0.0027 - val_loss: 6.0308e-04\n",
            "Epoch 11/300\n",
            "11/11 [==============================] - 0s 19ms/step - loss: 0.0026 - val_loss: 5.6914e-04\n",
            "Epoch 12/300\n",
            "11/11 [==============================] - 0s 19ms/step - loss: 0.0025 - val_loss: 5.3810e-04\n",
            "Epoch 13/300\n",
            "11/11 [==============================] - 0s 19ms/step - loss: 0.0025 - val_loss: 6.1061e-04\n",
            "Epoch 14/300\n",
            "11/11 [==============================] - 0s 20ms/step - loss: 0.0024 - val_loss: 5.3318e-04\n",
            "Epoch 15/300\n",
            "11/11 [==============================] - 0s 19ms/step - loss: 0.0024 - val_loss: 5.4645e-04\n",
            "Epoch 16/300\n",
            "11/11 [==============================] - 0s 18ms/step - loss: 0.0023 - val_loss: 5.8219e-04\n",
            "Epoch 17/300\n",
            "11/11 [==============================] - 0s 19ms/step - loss: 0.0025 - val_loss: 5.4482e-04\n",
            "Epoch 18/300\n",
            "11/11 [==============================] - 0s 20ms/step - loss: 0.0022 - val_loss: 6.0557e-04\n",
            "Epoch 19/300\n",
            "11/11 [==============================] - 0s 19ms/step - loss: 0.0022 - val_loss: 5.8877e-04\n",
            "Epoch 20/300\n",
            "11/11 [==============================] - 0s 18ms/step - loss: 0.0021 - val_loss: 5.9371e-04\n",
            "Epoch 21/300\n",
            "11/11 [==============================] - 0s 20ms/step - loss: 0.0021 - val_loss: 5.5639e-04\n",
            "Epoch 22/300\n",
            "11/11 [==============================] - 0s 19ms/step - loss: 0.0021 - val_loss: 5.7733e-04\n",
            "Epoch 23/300\n",
            "11/11 [==============================] - 0s 19ms/step - loss: 0.0021 - val_loss: 4.6410e-04\n",
            "Epoch 24/300\n",
            "11/11 [==============================] - 0s 19ms/step - loss: 0.0020 - val_loss: 6.2985e-04\n",
            "Epoch 25/300\n",
            "11/11 [==============================] - 0s 19ms/step - loss: 0.0019 - val_loss: 4.2842e-04\n",
            "Epoch 26/300\n",
            "11/11 [==============================] - 0s 19ms/step - loss: 0.0018 - val_loss: 3.8573e-04\n",
            "Epoch 27/300\n",
            "11/11 [==============================] - 0s 19ms/step - loss: 0.0017 - val_loss: 3.7873e-04\n",
            "Epoch 28/300\n",
            "11/11 [==============================] - 0s 19ms/step - loss: 0.0017 - val_loss: 3.3096e-04\n",
            "Epoch 29/300\n",
            "11/11 [==============================] - 0s 20ms/step - loss: 0.0017 - val_loss: 3.4394e-04\n",
            "Epoch 30/300\n",
            "11/11 [==============================] - 0s 20ms/step - loss: 0.0016 - val_loss: 2.3462e-04\n",
            "Epoch 31/300\n",
            "11/11 [==============================] - 0s 18ms/step - loss: 0.0015 - val_loss: 2.1662e-04\n",
            "Epoch 32/300\n",
            "11/11 [==============================] - 0s 18ms/step - loss: 0.0015 - val_loss: 2.2164e-04\n",
            "Epoch 33/300\n",
            "11/11 [==============================] - 0s 19ms/step - loss: 0.0017 - val_loss: 2.0722e-04\n",
            "Epoch 34/300\n",
            "11/11 [==============================] - 0s 19ms/step - loss: 0.0017 - val_loss: 2.2247e-04\n",
            "Epoch 35/300\n",
            "11/11 [==============================] - 0s 19ms/step - loss: 0.0017 - val_loss: 2.1418e-04\n",
            "Epoch 36/300\n",
            "11/11 [==============================] - 0s 19ms/step - loss: 0.0015 - val_loss: 2.0952e-04\n",
            "Epoch 37/300\n",
            "11/11 [==============================] - 0s 19ms/step - loss: 0.0014 - val_loss: 2.2871e-04\n",
            "Epoch 38/300\n",
            "11/11 [==============================] - 0s 20ms/step - loss: 0.0014 - val_loss: 2.2049e-04\n",
            "Epoch 39/300\n",
            "11/11 [==============================] - 0s 19ms/step - loss: 0.0014 - val_loss: 2.4895e-04\n",
            "Epoch 40/300\n",
            "11/11 [==============================] - 0s 19ms/step - loss: 0.0014 - val_loss: 2.0815e-04\n",
            "Epoch 41/300\n",
            "11/11 [==============================] - 0s 19ms/step - loss: 0.0014 - val_loss: 2.1253e-04\n",
            "Epoch 42/300\n",
            "11/11 [==============================] - 0s 18ms/step - loss: 0.0013 - val_loss: 2.4241e-04\n",
            "Epoch 43/300\n",
            "11/11 [==============================] - 0s 19ms/step - loss: 0.0015 - val_loss: 2.0072e-04\n",
            "Epoch 44/300\n",
            "11/11 [==============================] - 0s 20ms/step - loss: 0.0015 - val_loss: 2.1926e-04\n",
            "Epoch 45/300\n",
            "11/11 [==============================] - 0s 19ms/step - loss: 0.0014 - val_loss: 1.9571e-04\n",
            "Epoch 46/300\n",
            "11/11 [==============================] - 0s 19ms/step - loss: 0.0013 - val_loss: 2.0081e-04\n",
            "Epoch 47/300\n",
            "11/11 [==============================] - 0s 20ms/step - loss: 0.0013 - val_loss: 1.9463e-04\n",
            "Epoch 48/300\n",
            "11/11 [==============================] - 0s 19ms/step - loss: 0.0014 - val_loss: 2.2364e-04\n",
            "Epoch 49/300\n",
            "11/11 [==============================] - 0s 19ms/step - loss: 0.0013 - val_loss: 1.8615e-04\n",
            "Epoch 50/300\n",
            "11/11 [==============================] - 0s 19ms/step - loss: 0.0013 - val_loss: 2.1801e-04\n",
            "Epoch 51/300\n",
            "11/11 [==============================] - 0s 19ms/step - loss: 0.0013 - val_loss: 1.9321e-04\n",
            "Epoch 52/300\n",
            "11/11 [==============================] - 0s 18ms/step - loss: 0.0013 - val_loss: 2.0544e-04\n",
            "Epoch 53/300\n",
            "11/11 [==============================] - 0s 19ms/step - loss: 0.0013 - val_loss: 1.8414e-04\n",
            "Epoch 54/300\n",
            "11/11 [==============================] - 0s 19ms/step - loss: 0.0013 - val_loss: 1.9222e-04\n",
            "Epoch 55/300\n",
            "11/11 [==============================] - 0s 19ms/step - loss: 0.0011 - val_loss: 1.8782e-04\n",
            "Epoch 56/300\n",
            "11/11 [==============================] - 0s 19ms/step - loss: 0.0011 - val_loss: 1.8348e-04\n",
            "Epoch 57/300\n",
            "11/11 [==============================] - 0s 21ms/step - loss: 0.0011 - val_loss: 1.7454e-04\n",
            "Epoch 58/300\n",
            "11/11 [==============================] - 0s 19ms/step - loss: 0.0011 - val_loss: 1.9197e-04\n",
            "Epoch 59/300\n",
            "11/11 [==============================] - 0s 19ms/step - loss: 0.0011 - val_loss: 1.7628e-04\n",
            "Epoch 60/300\n",
            "11/11 [==============================] - 0s 19ms/step - loss: 0.0011 - val_loss: 1.7942e-04\n",
            "Epoch 61/300\n",
            "11/11 [==============================] - 0s 19ms/step - loss: 0.0012 - val_loss: 1.8028e-04\n",
            "Epoch 62/300\n",
            "11/11 [==============================] - 0s 18ms/step - loss: 0.0014 - val_loss: 1.8775e-04\n",
            "Epoch 63/300\n",
            "11/11 [==============================] - 0s 19ms/step - loss: 0.0012 - val_loss: 1.7434e-04\n",
            "Epoch 64/300\n",
            "11/11 [==============================] - 0s 18ms/step - loss: 0.0012 - val_loss: 1.8480e-04\n",
            "Epoch 65/300\n",
            "11/11 [==============================] - 0s 18ms/step - loss: 0.0011 - val_loss: 1.7120e-04\n",
            "Epoch 66/300\n",
            "11/11 [==============================] - 0s 20ms/step - loss: 0.0011 - val_loss: 1.7509e-04\n",
            "Epoch 67/300\n",
            "11/11 [==============================] - 0s 18ms/step - loss: 0.0010 - val_loss: 1.6569e-04\n",
            "Epoch 68/300\n",
            "11/11 [==============================] - 0s 18ms/step - loss: 9.7018e-04 - val_loss: 1.8043e-04\n",
            "Epoch 69/300\n",
            "11/11 [==============================] - 0s 19ms/step - loss: 0.0010 - val_loss: 1.6407e-04\n",
            "Epoch 70/300\n",
            "11/11 [==============================] - 0s 19ms/step - loss: 9.6343e-04 - val_loss: 1.6488e-04\n",
            "Epoch 71/300\n",
            "11/11 [==============================] - 0s 19ms/step - loss: 0.0011 - val_loss: 1.7265e-04\n",
            "Epoch 72/300\n",
            "11/11 [==============================] - 0s 18ms/step - loss: 9.8325e-04 - val_loss: 1.7536e-04\n",
            "Epoch 73/300\n",
            "11/11 [==============================] - 0s 19ms/step - loss: 9.3012e-04 - val_loss: 1.7230e-04\n",
            "Epoch 74/300\n",
            "11/11 [==============================] - 0s 21ms/step - loss: 9.1779e-04 - val_loss: 1.7746e-04\n",
            "Epoch 75/300\n",
            "11/11 [==============================] - 0s 19ms/step - loss: 9.4363e-04 - val_loss: 1.5580e-04\n",
            "Epoch 76/300\n",
            "11/11 [==============================] - 0s 19ms/step - loss: 8.8180e-04 - val_loss: 1.5554e-04\n",
            "Epoch 77/300\n",
            "11/11 [==============================] - 0s 19ms/step - loss: 0.0010 - val_loss: 1.7730e-04\n",
            "Epoch 78/300\n",
            "11/11 [==============================] - 0s 19ms/step - loss: 9.6069e-04 - val_loss: 1.6715e-04\n",
            "Epoch 79/300\n",
            "11/11 [==============================] - 0s 19ms/step - loss: 9.1215e-04 - val_loss: 1.5411e-04\n",
            "Epoch 80/300\n",
            "11/11 [==============================] - 0s 20ms/step - loss: 9.1102e-04 - val_loss: 1.6364e-04\n",
            "Epoch 81/300\n",
            "11/11 [==============================] - 0s 19ms/step - loss: 8.7577e-04 - val_loss: 1.5117e-04\n",
            "Epoch 82/300\n",
            "11/11 [==============================] - 0s 19ms/step - loss: 8.0908e-04 - val_loss: 1.5206e-04\n",
            "Epoch 83/300\n",
            "11/11 [==============================] - 0s 19ms/step - loss: 8.4386e-04 - val_loss: 1.4535e-04\n",
            "Epoch 84/300\n",
            "11/11 [==============================] - 0s 19ms/step - loss: 8.3095e-04 - val_loss: 1.4526e-04\n",
            "Epoch 85/300\n",
            "11/11 [==============================] - 0s 19ms/step - loss: 8.8369e-04 - val_loss: 1.4970e-04\n",
            "Epoch 86/300\n",
            "11/11 [==============================] - 0s 19ms/step - loss: 7.7175e-04 - val_loss: 1.4877e-04\n",
            "Epoch 87/300\n",
            "11/11 [==============================] - 0s 20ms/step - loss: 7.7581e-04 - val_loss: 1.4680e-04\n",
            "Epoch 88/300\n",
            "11/11 [==============================] - 0s 19ms/step - loss: 7.8017e-04 - val_loss: 1.4032e-04\n",
            "Epoch 89/300\n",
            "11/11 [==============================] - 0s 19ms/step - loss: 7.3795e-04 - val_loss: 1.5544e-04\n",
            "Epoch 90/300\n",
            "11/11 [==============================] - 0s 19ms/step - loss: 7.4523e-04 - val_loss: 1.4341e-04\n",
            "Epoch 91/300\n",
            "11/11 [==============================] - 0s 20ms/step - loss: 7.3210e-04 - val_loss: 1.4001e-04\n",
            "Epoch 92/300\n",
            "11/11 [==============================] - 0s 19ms/step - loss: 8.1012e-04 - val_loss: 1.3905e-04\n",
            "Epoch 93/300\n",
            "11/11 [==============================] - 0s 19ms/step - loss: 8.5947e-04 - val_loss: 1.4907e-04\n",
            "Epoch 94/300\n",
            "11/11 [==============================] - 0s 19ms/step - loss: 7.1192e-04 - val_loss: 1.4428e-04\n",
            "Epoch 95/300\n",
            "11/11 [==============================] - 0s 19ms/step - loss: 7.0675e-04 - val_loss: 1.4700e-04\n",
            "Epoch 96/300\n",
            "11/11 [==============================] - 0s 19ms/step - loss: 7.4663e-04 - val_loss: 1.4441e-04\n",
            "Epoch 97/300\n",
            "11/11 [==============================] - 0s 21ms/step - loss: 7.0935e-04 - val_loss: 1.6703e-04\n",
            "Epoch 98/300\n",
            "11/11 [==============================] - 0s 19ms/step - loss: 7.8294e-04 - val_loss: 1.3974e-04\n",
            "Epoch 99/300\n",
            "11/11 [==============================] - 0s 19ms/step - loss: 6.9846e-04 - val_loss: 1.4616e-04\n",
            "Epoch 100/300\n",
            "11/11 [==============================] - 0s 19ms/step - loss: 7.3460e-04 - val_loss: 1.5103e-04\n",
            "Epoch 101/300\n",
            "11/11 [==============================] - 0s 19ms/step - loss: 6.4401e-04 - val_loss: 1.4260e-04\n",
            "Epoch 102/300\n",
            "11/11 [==============================] - 0s 21ms/step - loss: 6.1713e-04 - val_loss: 1.3926e-04\n",
            "Epoch 103/300\n",
            "11/11 [==============================] - 0s 19ms/step - loss: 6.5286e-04 - val_loss: 1.2836e-04\n",
            "Epoch 104/300\n",
            "11/11 [==============================] - 0s 19ms/step - loss: 6.2047e-04 - val_loss: 1.3081e-04\n",
            "Epoch 105/300\n",
            "11/11 [==============================] - 0s 19ms/step - loss: 5.9783e-04 - val_loss: 1.3608e-04\n",
            "Epoch 106/300\n",
            "11/11 [==============================] - 0s 20ms/step - loss: 6.0344e-04 - val_loss: 1.2646e-04\n",
            "Epoch 107/300\n",
            "11/11 [==============================] - 0s 20ms/step - loss: 6.3490e-04 - val_loss: 1.2710e-04\n",
            "Epoch 108/300\n",
            "11/11 [==============================] - 0s 19ms/step - loss: 7.0400e-04 - val_loss: 1.2925e-04\n",
            "Epoch 109/300\n",
            "11/11 [==============================] - 0s 18ms/step - loss: 5.8803e-04 - val_loss: 1.3630e-04\n",
            "Epoch 110/300\n",
            "11/11 [==============================] - 0s 20ms/step - loss: 5.7685e-04 - val_loss: 1.4015e-04\n",
            "Epoch 111/300\n",
            "11/11 [==============================] - 0s 19ms/step - loss: 5.7657e-04 - val_loss: 1.2379e-04\n",
            "Epoch 112/300\n",
            "11/11 [==============================] - 0s 20ms/step - loss: 6.3207e-04 - val_loss: 1.2983e-04\n",
            "Epoch 113/300\n",
            "11/11 [==============================] - 0s 19ms/step - loss: 5.6512e-04 - val_loss: 1.5568e-04\n",
            "Epoch 114/300\n",
            "11/11 [==============================] - 0s 19ms/step - loss: 5.7639e-04 - val_loss: 1.1996e-04\n",
            "Epoch 115/300\n",
            "11/11 [==============================] - 0s 19ms/step - loss: 5.4796e-04 - val_loss: 1.2032e-04\n",
            "Epoch 116/300\n",
            "11/11 [==============================] - 0s 20ms/step - loss: 7.3142e-04 - val_loss: 1.7360e-04\n",
            "Epoch 117/300\n",
            "11/11 [==============================] - 0s 20ms/step - loss: 6.7453e-04 - val_loss: 1.5248e-04\n",
            "Epoch 118/300\n",
            "11/11 [==============================] - 0s 18ms/step - loss: 7.8012e-04 - val_loss: 1.2371e-04\n",
            "Epoch 119/300\n",
            "11/11 [==============================] - 0s 19ms/step - loss: 5.8342e-04 - val_loss: 1.2964e-04\n",
            "Epoch 120/300\n",
            "11/11 [==============================] - 0s 22ms/step - loss: 6.4513e-04 - val_loss: 1.5012e-04\n",
            "Epoch 121/300\n",
            "11/11 [==============================] - 0s 19ms/step - loss: 6.0490e-04 - val_loss: 1.6082e-04\n",
            "Epoch 122/300\n",
            "11/11 [==============================] - 0s 19ms/step - loss: 5.8957e-04 - val_loss: 1.3722e-04\n",
            "Epoch 123/300\n",
            "11/11 [==============================] - 0s 21ms/step - loss: 5.5045e-04 - val_loss: 1.2901e-04\n",
            "Epoch 124/300\n",
            "11/11 [==============================] - 0s 19ms/step - loss: 5.3268e-04 - val_loss: 1.1585e-04\n",
            "Epoch 125/300\n",
            "11/11 [==============================] - 0s 18ms/step - loss: 6.0693e-04 - val_loss: 1.1339e-04\n",
            "Epoch 126/300\n",
            "11/11 [==============================] - 0s 19ms/step - loss: 5.5327e-04 - val_loss: 1.1626e-04\n",
            "Epoch 127/300\n",
            "11/11 [==============================] - 0s 19ms/step - loss: 5.0983e-04 - val_loss: 1.1764e-04\n",
            "Epoch 128/300\n",
            "11/11 [==============================] - 0s 20ms/step - loss: 5.2738e-04 - val_loss: 1.2194e-04\n",
            "Epoch 129/300\n",
            "11/11 [==============================] - 0s 19ms/step - loss: 5.6655e-04 - val_loss: 1.0990e-04\n",
            "Epoch 130/300\n",
            "11/11 [==============================] - 0s 18ms/step - loss: 5.7178e-04 - val_loss: 1.1243e-04\n",
            "Epoch 131/300\n",
            "11/11 [==============================] - 0s 20ms/step - loss: 5.1796e-04 - val_loss: 1.1079e-04\n",
            "Epoch 132/300\n",
            "11/11 [==============================] - 0s 19ms/step - loss: 5.8854e-04 - val_loss: 1.1382e-04\n",
            "Epoch 133/300\n",
            "11/11 [==============================] - 0s 19ms/step - loss: 5.0625e-04 - val_loss: 1.0874e-04\n",
            "Epoch 134/300\n",
            "11/11 [==============================] - 0s 19ms/step - loss: 5.7796e-04 - val_loss: 1.0797e-04\n",
            "Epoch 135/300\n",
            "11/11 [==============================] - 0s 19ms/step - loss: 6.7560e-04 - val_loss: 1.1366e-04\n",
            "Epoch 136/300\n",
            "11/11 [==============================] - 0s 19ms/step - loss: 6.5009e-04 - val_loss: 1.1045e-04\n",
            "Epoch 137/300\n",
            "11/11 [==============================] - 0s 19ms/step - loss: 5.5906e-04 - val_loss: 1.0947e-04\n",
            "Epoch 138/300\n",
            "11/11 [==============================] - 0s 19ms/step - loss: 5.3167e-04 - val_loss: 1.0704e-04\n",
            "Epoch 139/300\n",
            "11/11 [==============================] - 0s 19ms/step - loss: 4.6566e-04 - val_loss: 1.1472e-04\n",
            "Epoch 140/300\n",
            "11/11 [==============================] - 0s 18ms/step - loss: 4.7966e-04 - val_loss: 1.2483e-04\n",
            "Epoch 141/300\n",
            "11/11 [==============================] - 0s 19ms/step - loss: 5.9549e-04 - val_loss: 1.0688e-04\n",
            "Epoch 142/300\n",
            "11/11 [==============================] - 0s 20ms/step - loss: 7.3881e-04 - val_loss: 1.1559e-04\n",
            "Epoch 143/300\n",
            "11/11 [==============================] - 0s 19ms/step - loss: 6.3522e-04 - val_loss: 1.3062e-04\n",
            "Epoch 144/300\n",
            "11/11 [==============================] - 0s 19ms/step - loss: 5.9312e-04 - val_loss: 1.2278e-04\n",
            "Epoch 145/300\n",
            "11/11 [==============================] - 0s 20ms/step - loss: 4.6789e-04 - val_loss: 1.2563e-04\n",
            "Epoch 146/300\n",
            "11/11 [==============================] - 0s 18ms/step - loss: 4.8517e-04 - val_loss: 1.0826e-04\n",
            "Epoch 147/300\n",
            "11/11 [==============================] - 0s 19ms/step - loss: 5.1998e-04 - val_loss: 1.0416e-04\n",
            "Epoch 148/300\n",
            "11/11 [==============================] - 0s 19ms/step - loss: 4.8000e-04 - val_loss: 1.0346e-04\n",
            "Epoch 149/300\n",
            "11/11 [==============================] - 0s 19ms/step - loss: 4.8242e-04 - val_loss: 1.0191e-04\n",
            "Epoch 150/300\n",
            "11/11 [==============================] - 0s 20ms/step - loss: 4.4186e-04 - val_loss: 1.0219e-04\n",
            "Epoch 151/300\n",
            "11/11 [==============================] - 0s 21ms/step - loss: 4.3190e-04 - val_loss: 1.0023e-04\n",
            "Epoch 152/300\n",
            "11/11 [==============================] - 0s 19ms/step - loss: 4.2041e-04 - val_loss: 9.9688e-05\n",
            "Epoch 153/300\n",
            "11/11 [==============================] - 0s 20ms/step - loss: 4.3047e-04 - val_loss: 9.7675e-05\n",
            "Epoch 154/300\n",
            "11/11 [==============================] - 0s 20ms/step - loss: 4.4992e-04 - val_loss: 9.6320e-05\n",
            "Epoch 155/300\n",
            "11/11 [==============================] - 0s 19ms/step - loss: 4.6449e-04 - val_loss: 9.7154e-05\n",
            "Epoch 156/300\n",
            "11/11 [==============================] - 0s 20ms/step - loss: 4.2461e-04 - val_loss: 9.5883e-05\n",
            "Epoch 157/300\n",
            "11/11 [==============================] - 0s 18ms/step - loss: 4.1555e-04 - val_loss: 9.6238e-05\n",
            "Epoch 158/300\n",
            "11/11 [==============================] - 0s 21ms/step - loss: 4.6813e-04 - val_loss: 9.6639e-05\n",
            "Epoch 159/300\n",
            "11/11 [==============================] - 0s 20ms/step - loss: 4.3095e-04 - val_loss: 1.0684e-04\n",
            "Epoch 160/300\n",
            "11/11 [==============================] - 0s 19ms/step - loss: 4.2178e-04 - val_loss: 9.6525e-05\n",
            "Epoch 161/300\n",
            "11/11 [==============================] - 0s 20ms/step - loss: 4.4880e-04 - val_loss: 9.8377e-05\n",
            "Epoch 162/300\n",
            "11/11 [==============================] - 0s 19ms/step - loss: 4.7037e-04 - val_loss: 1.0589e-04\n",
            "Epoch 163/300\n",
            "11/11 [==============================] - 0s 20ms/step - loss: 6.0811e-04 - val_loss: 9.8033e-05\n",
            "Epoch 164/300\n",
            "11/11 [==============================] - 0s 19ms/step - loss: 4.7402e-04 - val_loss: 9.6408e-05\n",
            "Epoch 165/300\n",
            "11/11 [==============================] - 0s 20ms/step - loss: 4.2687e-04 - val_loss: 9.4819e-05\n",
            "Epoch 166/300\n",
            "11/11 [==============================] - 0s 20ms/step - loss: 4.3173e-04 - val_loss: 9.4784e-05\n",
            "Epoch 167/300\n",
            "11/11 [==============================] - 0s 19ms/step - loss: 4.3218e-04 - val_loss: 9.7260e-05\n",
            "Epoch 168/300\n",
            "11/11 [==============================] - 0s 20ms/step - loss: 4.1660e-04 - val_loss: 9.3135e-05\n",
            "Epoch 169/300\n",
            "11/11 [==============================] - 0s 19ms/step - loss: 3.9337e-04 - val_loss: 9.7777e-05\n",
            "Epoch 170/300\n",
            "11/11 [==============================] - 0s 19ms/step - loss: 3.9060e-04 - val_loss: 9.5607e-05\n",
            "Epoch 171/300\n",
            "11/11 [==============================] - 0s 21ms/step - loss: 4.0007e-04 - val_loss: 9.6652e-05\n",
            "Epoch 172/300\n",
            "11/11 [==============================] - 0s 19ms/step - loss: 4.8657e-04 - val_loss: 9.3043e-05\n",
            "Epoch 173/300\n",
            "11/11 [==============================] - 0s 20ms/step - loss: 3.9499e-04 - val_loss: 9.0451e-05\n",
            "Epoch 174/300\n",
            "11/11 [==============================] - 0s 19ms/step - loss: 3.7741e-04 - val_loss: 9.3922e-05\n",
            "Epoch 175/300\n",
            "11/11 [==============================] - 0s 21ms/step - loss: 4.0802e-04 - val_loss: 9.6105e-05\n",
            "Epoch 176/300\n",
            "11/11 [==============================] - 0s 19ms/step - loss: 3.7657e-04 - val_loss: 9.0797e-05\n",
            "Epoch 177/300\n",
            "11/11 [==============================] - 0s 20ms/step - loss: 4.6474e-04 - val_loss: 9.0158e-05\n",
            "Epoch 178/300\n",
            "11/11 [==============================] - 0s 19ms/step - loss: 4.5021e-04 - val_loss: 1.0408e-04\n",
            "Epoch 179/300\n",
            "11/11 [==============================] - 0s 19ms/step - loss: 3.7485e-04 - val_loss: 8.9852e-05\n",
            "Epoch 180/300\n",
            "11/11 [==============================] - 0s 20ms/step - loss: 4.2314e-04 - val_loss: 8.8935e-05\n",
            "Epoch 181/300\n",
            "11/11 [==============================] - 0s 20ms/step - loss: 4.0104e-04 - val_loss: 8.8036e-05\n",
            "Epoch 182/300\n",
            "11/11 [==============================] - 0s 20ms/step - loss: 3.9201e-04 - val_loss: 8.8438e-05\n",
            "Epoch 183/300\n",
            "11/11 [==============================] - 0s 19ms/step - loss: 4.0319e-04 - val_loss: 8.9348e-05\n",
            "Epoch 184/300\n",
            "11/11 [==============================] - 0s 21ms/step - loss: 3.9747e-04 - val_loss: 9.0121e-05\n",
            "Epoch 185/300\n",
            "11/11 [==============================] - 0s 19ms/step - loss: 3.9027e-04 - val_loss: 9.2571e-05\n",
            "Epoch 186/300\n",
            "11/11 [==============================] - 0s 19ms/step - loss: 3.5272e-04 - val_loss: 8.6197e-05\n",
            "Epoch 187/300\n",
            "11/11 [==============================] - 0s 19ms/step - loss: 3.5467e-04 - val_loss: 8.7965e-05\n",
            "Epoch 188/300\n",
            "11/11 [==============================] - 0s 19ms/step - loss: 4.5770e-04 - val_loss: 8.8759e-05\n",
            "Epoch 189/300\n",
            "11/11 [==============================] - 0s 19ms/step - loss: 3.9969e-04 - val_loss: 8.5677e-05\n",
            "Epoch 190/300\n",
            "11/11 [==============================] - 0s 19ms/step - loss: 3.6437e-04 - val_loss: 1.0273e-04\n",
            "Epoch 191/300\n",
            "11/11 [==============================] - 0s 19ms/step - loss: 3.6560e-04 - val_loss: 8.5941e-05\n",
            "Epoch 192/300\n",
            "11/11 [==============================] - 0s 19ms/step - loss: 4.6712e-04 - val_loss: 8.5477e-05\n",
            "Epoch 193/300\n",
            "11/11 [==============================] - 0s 20ms/step - loss: 4.4992e-04 - val_loss: 8.6690e-05\n",
            "Epoch 194/300\n",
            "11/11 [==============================] - 0s 19ms/step - loss: 3.6570e-04 - val_loss: 8.5599e-05\n",
            "Epoch 195/300\n",
            "11/11 [==============================] - 0s 20ms/step - loss: 3.5783e-04 - val_loss: 8.7966e-05\n",
            "Epoch 196/300\n",
            "11/11 [==============================] - 0s 19ms/step - loss: 3.6328e-04 - val_loss: 1.0474e-04\n",
            "Epoch 197/300\n",
            "11/11 [==============================] - 0s 21ms/step - loss: 4.4507e-04 - val_loss: 8.7625e-05\n",
            "Epoch 198/300\n",
            "11/11 [==============================] - 0s 19ms/step - loss: 3.4853e-04 - val_loss: 8.7984e-05\n",
            "Epoch 199/300\n",
            "11/11 [==============================] - 0s 19ms/step - loss: 3.5953e-04 - val_loss: 9.2607e-05\n",
            "Epoch 200/300\n",
            "11/11 [==============================] - 0s 19ms/step - loss: 3.7093e-04 - val_loss: 8.3541e-05\n",
            "Epoch 201/300\n",
            "11/11 [==============================] - 0s 20ms/step - loss: 4.1362e-04 - val_loss: 8.5233e-05\n",
            "Epoch 202/300\n",
            "11/11 [==============================] - 0s 19ms/step - loss: 4.0230e-04 - val_loss: 9.7248e-05\n",
            "Epoch 203/300\n",
            "11/11 [==============================] - 0s 19ms/step - loss: 4.7587e-04 - val_loss: 8.7669e-05\n",
            "Epoch 204/300\n",
            "11/11 [==============================] - 0s 20ms/step - loss: 3.7577e-04 - val_loss: 9.0047e-05\n",
            "Epoch 205/300\n",
            "11/11 [==============================] - 0s 20ms/step - loss: 3.7106e-04 - val_loss: 9.0236e-05\n",
            "Epoch 206/300\n",
            "11/11 [==============================] - 0s 19ms/step - loss: 3.7289e-04 - val_loss: 8.3782e-05\n",
            "Epoch 207/300\n",
            "11/11 [==============================] - 0s 19ms/step - loss: 3.9139e-04 - val_loss: 9.8039e-05\n",
            "Epoch 208/300\n",
            "11/11 [==============================] - 0s 19ms/step - loss: 3.9673e-04 - val_loss: 9.8759e-05\n",
            "Epoch 209/300\n",
            "11/11 [==============================] - 0s 19ms/step - loss: 3.5143e-04 - val_loss: 8.3402e-05\n",
            "Epoch 210/300\n",
            "11/11 [==============================] - 0s 23ms/step - loss: 3.5776e-04 - val_loss: 9.0016e-05\n",
            "Epoch 211/300\n",
            "11/11 [==============================] - 0s 19ms/step - loss: 3.5589e-04 - val_loss: 9.5105e-05\n",
            "Epoch 212/300\n",
            "11/11 [==============================] - 0s 19ms/step - loss: 3.5463e-04 - val_loss: 9.5309e-05\n",
            "Epoch 213/300\n",
            "11/11 [==============================] - 0s 20ms/step - loss: 3.3497e-04 - val_loss: 8.3144e-05\n",
            "Epoch 214/300\n",
            "11/11 [==============================] - 0s 20ms/step - loss: 3.2021e-04 - val_loss: 8.0854e-05\n",
            "Epoch 215/300\n",
            "11/11 [==============================] - 0s 20ms/step - loss: 3.2458e-04 - val_loss: 9.4866e-05\n",
            "Epoch 216/300\n",
            "11/11 [==============================] - 0s 19ms/step - loss: 3.5265e-04 - val_loss: 9.7570e-05\n",
            "Epoch 217/300\n",
            "11/11 [==============================] - 0s 19ms/step - loss: 3.6367e-04 - val_loss: 8.2579e-05\n",
            "Epoch 218/300\n",
            "11/11 [==============================] - 0s 20ms/step - loss: 3.9732e-04 - val_loss: 9.2434e-05\n",
            "Epoch 219/300\n",
            "11/11 [==============================] - 0s 19ms/step - loss: 4.1327e-04 - val_loss: 8.3751e-05\n",
            "Epoch 220/300\n",
            "11/11 [==============================] - 0s 19ms/step - loss: 3.1741e-04 - val_loss: 8.1827e-05\n",
            "Epoch 221/300\n",
            "11/11 [==============================] - 0s 20ms/step - loss: 3.9059e-04 - val_loss: 8.6576e-05\n",
            "Epoch 222/300\n",
            "11/11 [==============================] - 0s 20ms/step - loss: 3.5841e-04 - val_loss: 8.4039e-05\n",
            "Epoch 223/300\n",
            "11/11 [==============================] - 0s 20ms/step - loss: 3.2727e-04 - val_loss: 8.3853e-05\n",
            "Epoch 224/300\n",
            "11/11 [==============================] - 0s 20ms/step - loss: 3.1027e-04 - val_loss: 8.8601e-05\n",
            "Epoch 225/300\n",
            "11/11 [==============================] - 0s 19ms/step - loss: 3.0894e-04 - val_loss: 8.8011e-05\n",
            "Epoch 226/300\n",
            "11/11 [==============================] - 0s 19ms/step - loss: 3.7813e-04 - val_loss: 7.9123e-05\n",
            "Epoch 227/300\n",
            "11/11 [==============================] - 0s 20ms/step - loss: 3.3641e-04 - val_loss: 8.3154e-05\n",
            "Epoch 228/300\n",
            "11/11 [==============================] - 0s 19ms/step - loss: 3.5444e-04 - val_loss: 7.8876e-05\n",
            "Epoch 229/300\n",
            "11/11 [==============================] - 0s 19ms/step - loss: 3.5543e-04 - val_loss: 8.7492e-05\n",
            "Epoch 230/300\n",
            "11/11 [==============================] - 0s 20ms/step - loss: 4.0630e-04 - val_loss: 8.8381e-05\n",
            "Epoch 231/300\n",
            "11/11 [==============================] - 0s 19ms/step - loss: 3.9970e-04 - val_loss: 7.9779e-05\n",
            "Epoch 232/300\n",
            "11/11 [==============================] - 0s 21ms/step - loss: 4.3299e-04 - val_loss: 1.0318e-04\n",
            "Epoch 233/300\n",
            "11/11 [==============================] - 0s 20ms/step - loss: 4.0615e-04 - val_loss: 1.0510e-04\n",
            "Epoch 234/300\n",
            "11/11 [==============================] - 0s 19ms/step - loss: 3.2256e-04 - val_loss: 8.7658e-05\n",
            "Epoch 235/300\n",
            "11/11 [==============================] - 0s 20ms/step - loss: 3.2768e-04 - val_loss: 7.8850e-05\n",
            "Epoch 236/300\n",
            "11/11 [==============================] - 0s 19ms/step - loss: 3.1681e-04 - val_loss: 8.8622e-05\n",
            "Epoch 237/300\n",
            "11/11 [==============================] - 0s 20ms/step - loss: 3.1010e-04 - val_loss: 8.2445e-05\n",
            "Epoch 238/300\n",
            "11/11 [==============================] - 0s 20ms/step - loss: 3.4081e-04 - val_loss: 1.0031e-04\n",
            "Epoch 239/300\n",
            "11/11 [==============================] - 0s 19ms/step - loss: 3.6420e-04 - val_loss: 8.1107e-05\n",
            "Epoch 240/300\n",
            "11/11 [==============================] - 0s 20ms/step - loss: 3.7494e-04 - val_loss: 1.1463e-04\n",
            "Epoch 241/300\n",
            "11/11 [==============================] - 0s 21ms/step - loss: 3.1336e-04 - val_loss: 1.0736e-04\n",
            "Epoch 242/300\n",
            "11/11 [==============================] - 0s 20ms/step - loss: 3.4736e-04 - val_loss: 7.7986e-05\n",
            "Epoch 243/300\n",
            "11/11 [==============================] - 0s 20ms/step - loss: 3.4081e-04 - val_loss: 1.0512e-04\n",
            "Epoch 244/300\n",
            "11/11 [==============================] - 0s 20ms/step - loss: 4.7259e-04 - val_loss: 1.0282e-04\n",
            "Epoch 245/300\n",
            "11/11 [==============================] - 0s 20ms/step - loss: 4.1059e-04 - val_loss: 8.3843e-05\n",
            "Epoch 246/300\n",
            "11/11 [==============================] - 0s 19ms/step - loss: 3.7504e-04 - val_loss: 7.9286e-05\n",
            "Epoch 247/300\n",
            "11/11 [==============================] - 0s 20ms/step - loss: 3.3887e-04 - val_loss: 8.0971e-05\n",
            "Epoch 248/300\n",
            "11/11 [==============================] - 0s 19ms/step - loss: 3.1244e-04 - val_loss: 8.5900e-05\n",
            "Epoch 249/300\n",
            "11/11 [==============================] - 0s 21ms/step - loss: 3.0942e-04 - val_loss: 8.5118e-05\n",
            "Epoch 250/300\n",
            "11/11 [==============================] - 0s 19ms/step - loss: 3.7599e-04 - val_loss: 9.8086e-05\n",
            "Epoch 251/300\n",
            "11/11 [==============================] - 0s 19ms/step - loss: 3.5783e-04 - val_loss: 7.9596e-05\n",
            "Epoch 252/300\n",
            "11/11 [==============================] - 0s 21ms/step - loss: 3.6757e-04 - val_loss: 9.1737e-05\n",
            "Epoch 253/300\n",
            "11/11 [==============================] - 0s 20ms/step - loss: 3.1917e-04 - val_loss: 8.6706e-05\n",
            "Epoch 254/300\n",
            "11/11 [==============================] - 0s 19ms/step - loss: 4.0538e-04 - val_loss: 9.2472e-05\n",
            "Epoch 255/300\n",
            "11/11 [==============================] - 0s 22ms/step - loss: 4.0481e-04 - val_loss: 7.9634e-05\n",
            "Epoch 256/300\n",
            "11/11 [==============================] - 0s 19ms/step - loss: 3.4863e-04 - val_loss: 8.2041e-05\n",
            "Epoch 257/300\n",
            "11/11 [==============================] - 0s 20ms/step - loss: 3.3441e-04 - val_loss: 9.6030e-05\n",
            "Epoch 258/300\n",
            "11/11 [==============================] - 0s 19ms/step - loss: 3.2610e-04 - val_loss: 8.3976e-05\n",
            "Epoch 259/300\n",
            "11/11 [==============================] - 0s 19ms/step - loss: 3.4026e-04 - val_loss: 1.0404e-04\n",
            "Epoch 260/300\n",
            "11/11 [==============================] - 0s 19ms/step - loss: 3.5565e-04 - val_loss: 8.0481e-05\n",
            "Epoch 261/300\n",
            "11/11 [==============================] - 0s 20ms/step - loss: 4.4926e-04 - val_loss: 8.4816e-05\n",
            "Epoch 262/300\n",
            "11/11 [==============================] - 0s 19ms/step - loss: 3.5594e-04 - val_loss: 8.3687e-05\n",
            "Epoch 263/300\n",
            "11/11 [==============================] - 0s 19ms/step - loss: 3.6855e-04 - val_loss: 9.1308e-05\n",
            "Epoch 264/300\n",
            "11/11 [==============================] - 0s 19ms/step - loss: 3.6468e-04 - val_loss: 9.6627e-05\n",
            "Epoch 265/300\n",
            "11/11 [==============================] - 0s 20ms/step - loss: 3.5223e-04 - val_loss: 1.0367e-04\n",
            "Epoch 266/300\n",
            "11/11 [==============================] - 0s 19ms/step - loss: 3.2906e-04 - val_loss: 8.4517e-05\n",
            "Epoch 267/300\n",
            "11/11 [==============================] - 0s 21ms/step - loss: 3.0901e-04 - val_loss: 8.3939e-05\n",
            "Epoch 268/300\n",
            "11/11 [==============================] - 0s 19ms/step - loss: 3.0686e-04 - val_loss: 1.0339e-04\n",
            "Epoch 269/300\n",
            "11/11 [==============================] - 0s 19ms/step - loss: 3.1607e-04 - val_loss: 9.8276e-05\n",
            "Epoch 270/300\n",
            "11/11 [==============================] - 0s 20ms/step - loss: 5.1375e-04 - val_loss: 8.9973e-05\n",
            "Epoch 271/300\n",
            "11/11 [==============================] - 0s 20ms/step - loss: 4.6974e-04 - val_loss: 1.0888e-04\n",
            "Epoch 272/300\n",
            "11/11 [==============================] - 0s 19ms/step - loss: 3.5528e-04 - val_loss: 7.9578e-05\n",
            "Epoch 273/300\n",
            "11/11 [==============================] - 0s 21ms/step - loss: 3.2925e-04 - val_loss: 1.0283e-04\n",
            "Epoch 274/300\n",
            "11/11 [==============================] - 0s 20ms/step - loss: 3.0572e-04 - val_loss: 1.0256e-04\n",
            "Epoch 275/300\n",
            "11/11 [==============================] - 0s 19ms/step - loss: 3.4594e-04 - val_loss: 1.0129e-04\n",
            "Epoch 276/300\n",
            "11/11 [==============================] - 0s 20ms/step - loss: 3.1377e-04 - val_loss: 1.1248e-04\n",
            "Epoch 277/300\n",
            "11/11 [==============================] - 0s 19ms/step - loss: 3.2145e-04 - val_loss: 1.0963e-04\n",
            "Epoch 278/300\n",
            "11/11 [==============================] - 0s 21ms/step - loss: 3.2958e-04 - val_loss: 1.1143e-04\n",
            "Epoch 279/300\n",
            "11/11 [==============================] - 0s 20ms/step - loss: 3.2011e-04 - val_loss: 1.0922e-04\n",
            "Epoch 280/300\n",
            "11/11 [==============================] - 0s 20ms/step - loss: 3.1063e-04 - val_loss: 1.0161e-04\n",
            "Epoch 281/300\n",
            "11/11 [==============================] - 0s 19ms/step - loss: 3.5471e-04 - val_loss: 1.1672e-04\n",
            "Epoch 282/300\n",
            "11/11 [==============================] - 0s 19ms/step - loss: 3.2911e-04 - val_loss: 8.4501e-05\n",
            "Epoch 283/300\n",
            "11/11 [==============================] - 0s 19ms/step - loss: 3.2267e-04 - val_loss: 8.6061e-05\n",
            "Epoch 284/300\n",
            "11/11 [==============================] - 0s 20ms/step - loss: 3.2113e-04 - val_loss: 9.6713e-05\n",
            "Epoch 285/300\n",
            "11/11 [==============================] - 0s 19ms/step - loss: 2.9924e-04 - val_loss: 1.1233e-04\n",
            "Epoch 286/300\n",
            "11/11 [==============================] - 0s 20ms/step - loss: 3.1415e-04 - val_loss: 9.7754e-05\n",
            "Epoch 287/300\n",
            "11/11 [==============================] - 0s 20ms/step - loss: 3.3662e-04 - val_loss: 8.4693e-05\n",
            "Epoch 288/300\n",
            "11/11 [==============================] - 0s 19ms/step - loss: 4.0484e-04 - val_loss: 9.6541e-05\n",
            "Epoch 289/300\n",
            "11/11 [==============================] - 0s 19ms/step - loss: 3.9089e-04 - val_loss: 9.0031e-05\n",
            "Epoch 290/300\n",
            "11/11 [==============================] - 0s 20ms/step - loss: 3.2091e-04 - val_loss: 9.3396e-05\n",
            "Epoch 291/300\n",
            "11/11 [==============================] - 0s 20ms/step - loss: 3.2453e-04 - val_loss: 9.9668e-05\n",
            "Epoch 292/300\n",
            "11/11 [==============================] - 0s 20ms/step - loss: 3.1107e-04 - val_loss: 9.7589e-05\n",
            "Epoch 293/300\n",
            "11/11 [==============================] - 0s 19ms/step - loss: 3.1183e-04 - val_loss: 8.7405e-05\n",
            "Epoch 294/300\n",
            "11/11 [==============================] - 0s 20ms/step - loss: 3.1764e-04 - val_loss: 9.6004e-05\n",
            "Epoch 295/300\n",
            "11/11 [==============================] - 0s 21ms/step - loss: 3.8032e-04 - val_loss: 1.0780e-04\n",
            "Epoch 296/300\n",
            "11/11 [==============================] - 0s 19ms/step - loss: 3.2581e-04 - val_loss: 1.2922e-04\n",
            "Epoch 297/300\n",
            "11/11 [==============================] - 0s 19ms/step - loss: 3.3943e-04 - val_loss: 1.1110e-04\n",
            "Epoch 298/300\n",
            "11/11 [==============================] - 0s 21ms/step - loss: 3.1255e-04 - val_loss: 1.0497e-04\n",
            "Epoch 299/300\n",
            "11/11 [==============================] - 0s 20ms/step - loss: 3.1617e-04 - val_loss: 1.1178e-04\n",
            "Epoch 300/300\n",
            "11/11 [==============================] - 0s 19ms/step - loss: 3.0780e-04 - val_loss: 9.8434e-05\n"
          ],
          "name": "stdout"
        },
        {
          "output_type": "execute_result",
          "data": {
            "text/plain": [
              "<tensorflow.python.keras.callbacks.History at 0x7fb3fecc2748>"
            ]
          },
          "metadata": {
            "tags": []
          },
          "execution_count": 14
        }
      ]
    },
    {
      "cell_type": "code",
      "metadata": {
        "id": "5BFgADBplB4h"
      },
      "source": [
        "train_predict=model.predict(X_train)\n",
        "test_predict=model.predict(X_test)"
      ],
      "execution_count": null,
      "outputs": []
    },
    {
      "cell_type": "code",
      "metadata": {
        "id": "YKErv0Qil3_Y"
      },
      "source": [
        "##Transformback to original form --- rescaling\n",
        "train_predict=scaler.inverse_transform(train_predict)\n",
        "test_predict=scaler.inverse_transform(test_predict)"
      ],
      "execution_count": null,
      "outputs": []
    },
    {
      "cell_type": "code",
      "metadata": {
        "id": "PEuZTGgrmWEi"
      },
      "source": [
        "\n",
        "### Plotting\n",
        "# shift train predictions for plotting\n",
        "look_back=100\n",
        "trainPredictPlot = numpy.empty_like(df1)\n",
        "trainPredictPlot[:, :] = np.nan\n",
        "trainPredictPlot[look_back:len(train_predict)+look_back, :] = train_predict\n",
        "# shift test predictions for plotting\n",
        "testPredictPlot = numpy.empty_like(df1)\n",
        "testPredictPlot[:, :] = numpy.nan\n",
        "testPredictPlot[len(train_predict)+(look_back*2)+1:len(df1)-1, :] = test_predict\n"
      ],
      "execution_count": null,
      "outputs": []
    },
    {
      "cell_type": "code",
      "metadata": {
        "id": "dO63e8Jzn6Ix"
      },
      "source": [
        "x_input = test_data[331:].reshape(1,-1)\n"
      ],
      "execution_count": null,
      "outputs": []
    },
    {
      "cell_type": "code",
      "metadata": {
        "id": "djLetqdSoKhS"
      },
      "source": [
        "temp_input = list(x_input)\n",
        "temp_input = temp_input[0].tolist()"
      ],
      "execution_count": null,
      "outputs": []
    },
    {
      "cell_type": "code",
      "metadata": {
        "id": "EV8cPFLlojjT"
      },
      "source": [
        "# demonstrate prediction for next 10 days\n",
        "from numpy import array\n",
        "\n",
        "lst_output=[]\n",
        "n_steps=100\n",
        "i=0\n",
        "while(i<3):\n",
        "\n",
        "    if(len(temp_input)>100):\n",
        "\n",
        "        x_input=np.array(temp_input[1:])\n",
        "\n",
        "        x_input=x_input.reshape(1,-1)\n",
        "        x_input = x_input.reshape((1, n_steps, 1))\n",
        "\n",
        "        yhat = model.predict(x_input, verbose=0)\n",
        "        temp_input.extend(yhat[0].tolist())\n",
        "        temp_input=temp_input[1:]\n",
        "\n",
        "        lst_output.extend(yhat.tolist())\n",
        "        i=i+1\n",
        "    else:\n",
        "        x_input = x_input.reshape((1, n_steps,1))\n",
        "        yhat = model.predict(x_input, verbose=0)\n",
        "\n",
        "        temp_input.extend(yhat[0].tolist())\n",
        "\n",
        "        lst_output.extend(yhat.tolist())\n",
        "        i=i+1\n",
        "\n",
        "\n"
      ],
      "execution_count": null,
      "outputs": []
    },
    {
      "cell_type": "code",
      "metadata": {
        "id": "TkxjV0Y0oqug"
      },
      "source": [
        "\n",
        "day_new=np.arange(1,101) #testdata 100indexes\n",
        "day_pred=np.arange(101,104) #101-131-predicted"
      ],
      "execution_count": null,
      "outputs": []
    },
    {
      "cell_type": "code",
      "metadata": {
        "id": "hwiNJ-MqpZu1",
        "colab": {
          "base_uri": "https://localhost:8080/",
          "height": 265
        },
        "outputId": "775732a1-86ac-4eb0-ba9c-8c92ed3ccd6a"
      },
      "source": [
        "\n",
        "plt.plot(day_new,scaler.inverse_transform(df1[1131:]))\n",
        "plt.plot(day_pred,scaler.inverse_transform(lst_output))\n",
        "plt.savefig('saved_figure.png')"
      ],
      "execution_count": null,
      "outputs": [
        {
          "output_type": "display_data",
          "data": {
            "image/png": "[encoded data removed]",
            "text/plain": [
              "<Figure size 432x288 with 1 Axes>"
            ]
          },
          "metadata": {
            "tags": [],
            "needs_background": "light"
          }
        }
      ]
    },
    {
      "cell_type": "code",
      "metadata": {
        "id": "5G3PfYnWbahA",
        "colab": {
          "base_uri": "https://localhost:8080/"
        },
        "outputId": "af50fdf1-8c27-44a1-9eb3-c889fe7e0273"
      },
      "source": [
        "lst_output"
      ],
      "execution_count": null,
      "outputs": [
        {
          "output_type": "execute_result",
          "data": {
            "text/plain": [
              "[[0.06965700536966324], [0.06982079893350601], [0.07045244425535202]]"
            ]
          },
          "metadata": {
            "tags": []
          },
          "execution_count": 25
        }
      ]
    },
    {
      "cell_type": "code",
      "metadata": {
        "id": "MuEgvdHvbcu1",
        "colab": {
          "base_uri": "https://localhost:8080/"
        },
        "outputId": "956bf056-bc0b-41a1-bb17-e51db951d96f"
      },
      "source": [
        "df1[-1]"
      ],
      "execution_count": null,
      "outputs": [
        {
          "output_type": "execute_result",
          "data": {
            "text/plain": [
              "array([0.06776018])"
            ]
          },
          "metadata": {
            "tags": []
          },
          "execution_count": 26
        }
      ]
    },
    {
      "cell_type": "code",
      "metadata": {
        "id": "xMzd5RfTb3AR",
        "colab": {
          "base_uri": "https://localhost:8080/",
          "height": 34
        },
        "outputId": "6bd920eb-f227-44fd-d339-e03f933fafe2"
      },
      "source": [
        "plt.savefig('Predicted.jpg')"
      ],
      "execution_count": null,
      "outputs": [
        {
          "output_type": "display_data",
          "data": {
            "text/plain": [
              "<Figure size 432x288 with 0 Axes>"
            ]
          },
          "metadata": {
            "tags": []
          }
        }
      ]
    },
    {
      "cell_type": "code",
      "metadata": {
        "id": "QlPMuJ9lsl7H"
      },
      "source": [],
      "execution_count": null,
      "outputs": []
    }
  ]
}